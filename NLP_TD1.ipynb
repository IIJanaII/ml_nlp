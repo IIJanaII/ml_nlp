{
  "cells": [
    {
      "attachments": {},
      "cell_type": "markdown",
      "metadata": {
        "id": "EQR7YTII9UEj"
      },
      "source": [
        "# **Import**\n"
      ]
    },
    {
      "cell_type": "code",
      "execution_count": 1,
      "metadata": {
        "id": "WYcM93GPARND"
      },
      "outputs": [],
      "source": [
        "import nltk\n",
        "nltk.download('punkt')\n",
        "nltk.download('stopwords')\n",
        "nltk.download('wordnet')"
      ]
    },
    {
      "attachments": {},
      "cell_type": "markdown",
      "metadata": {
        "id": "3c7Uylh3EZgy"
      },
      "source": [
        "# **Data collection**\n"
      ]
    },
    {
      "cell_type": "code",
      "execution_count": 118,
      "metadata": {
        "id": "MUwV1d3aEgQb"
      },
      "outputs": [],
      "source": [
        "with open('/content/news_maroc.txt', 'r') as f:\n",
        "    news_maroc = f.read()"
      ]
    },
    {
      "cell_type": "code",
      "execution_count": 130,
      "metadata": {
        "id": "70nOpp2UEZP0"
      },
      "outputs": [],
      "source": [
        "with open('/content/ukraine_frappe.txt', 'r') as f:\n",
        "    news_ukraine_2 = f.read()"
      ]
    },
    {
      "cell_type": "code",
      "execution_count": 131,
      "metadata": {
        "id": "PR87y-e5AlUY"
      },
      "outputs": [],
      "source": [
        "with open('/content/ukraine_frappe2.txt', 'r') as f:\n",
        "    news_ukraine = f.read()"
      ]
    },
    {
      "cell_type": "code",
      "execution_count": 132,
      "metadata": {
        "colab": {
          "base_uri": "https://localhost:8080/",
          "height": 140
        },
        "id": "I5vQ5M3DBSM1",
        "outputId": "5984831d-5eb6-4c1d-c027-a5f2b47df0bb"
      },
      "outputs": [
        {
          "data": {
            "application/vnd.google.colaboratory.intrinsic+json": {
              "type": "string"
            },
            "text/plain": [
              "'Guerre en Ukraine : le QG de la flotte russe en Crimée bombardé\\nUne attaque de missile ukrainienne s’est abattue ce vendredi 22 septembre sur le lieu stratégique pour les forces occupantes situé dans la ville de Sébastopol. Le bâtiment est en flammes et au moins un militaire a été tué.\\nUn chantier naval avait été pris pour cible il y a quelques jours. Cette fois, c’est le quartier général de la flotte russe en mer Noire qui a été attaqué par l’Ukraine ce vendredi 22 septembre, avec une frappe de missile sur ce lieu situé dans le centre-ville de Sébastopol en Crimée. «L’ennemi a mené une attaque de missile contre le quartier général de la flotte», a écrit sur Telegram le gouverneur installé par Moscou à Sébastopol à la suite de l’annexion de 2014, Mikhaïl Razvojaïev.\\n\\n«Cinq missiles ont été abattus par la défense antiaérienne. Le bâtiment historique du quartier général de la flotte de la mer Noire a été endommagé par l’attaque. Selon les informations disponibles, un militaire a été tué», a indiqué dans un communiqué sur Telegram le ministère russe de la Défense.\\n\\nLe bâtiment est, lui, en flammes. «La lutte contre l’incendie dans le quartier général de la flotte se poursuit», a indiqué sur Telegram le responsable du district administratif de Sébastopol, Mikhaïl Razvojaïev, tandis que le gouverneur russe de Crimée, Sergueï Aksionov, a affirmé que des «missiles de croisière» avaient été abattus au-dessus de la péninsule.\\nLes autorités russes en Crimée ukrainienne annexée ont ensuite déclaré craindre une deuxième attaque de missile sur Sébastopol, quelques minutes après avoir annoncé que le quartier général de la flotte russe de la mer Noire avait été frappé. «Ne venez pas en centre-ville, restez à l’intérieur des bâtiments. Pour ceux se trouvant près du QG de la flotte, en cas de sirènes, allez aux abris», a écrit sur Telegram Mikhaïl Razvojaïev, le gouverneur.\\na flotte russe de la mer Noire est basée dans le port de Sébastopol, qui est l’un des centres de commandement des opérations russes contre l’Ukraine. Le 31 juillet 2022, un drone explosif avait déjà blessé six personnes en frappant ce quartier général, un imposant bâtiment blanc de style classique, situé au cœur de Sébastopol, près de parcs et musées très fréquentés.\\nDepuis plusieurs semaines, la Crimée et Sébastopol en particulier sont visés très régulièrement par des attaques ukrainiennes de drones aériens et navals, ciblant navires et infrastructures militaires et mettant à l’épreuve les défenses navals et antiaériennes russes.\\nLa Crimée est essentielle à l’approvisionnement des troupes d’occupation russe dans le sud de l’Ukraine et au contrôle qu’exerce la Russie sur les côtes ukrainiennes en mer Noire et d’Azov.'"
            ]
          },
          "execution_count": 132,
          "metadata": {},
          "output_type": "execute_result"
        }
      ],
      "source": [
        "news_ukraine"
      ]
    },
    {
      "attachments": {},
      "cell_type": "markdown",
      "metadata": {
        "id": "l94_yaB0vcZO"
      },
      "source": [
        "# **Check the zipf's Law**\n",
        "\n",
        "\n",
        "\n",
        "\n"
      ]
    },
    {
      "cell_type": "code",
      "execution_count": 80,
      "metadata": {
        "id": "kzq1--3JF1oY"
      },
      "outputs": [],
      "source": [
        "#lower text\n",
        "\n",
        "normalized_text_1 = news_ukraine.lower()\n",
        "normalized_text_2=news_ukraine_2.lower()\n",
        "normalized_text_3=news_maroc.lower()"
      ]
    },
    {
      "cell_type": "code",
      "execution_count": 81,
      "metadata": {
        "colab": {
          "base_uri": "https://localhost:8080/",
          "height": 140
        },
        "id": "241dnBB7F-xa",
        "outputId": "bf665821-bcc9-490b-ee68-0f49316654a4"
      },
      "outputs": [
        {
          "data": {
            "application/vnd.google.colaboratory.intrinsic+json": {
              "type": "string"
            },
            "text/plain": [
              "'la pologne a convoqué \"d\\'urgence\" l\\'ambassadeur d\\'ukraine pour protester contre les propos du président volodymyr zelensky à l\\'onu, qui a accusé certains pays de feindre la solidarité à l\\'égard de l\\'ukraine, \"en soutenant indirectement la russie\".\\nce qu\\'il faut savoir\\nla pologne a convoqué \"d\\'urgence\" mercredi 20 septembre l\\'ambassadeur d\\'ukraine pour protester contre les propos du président volodymyr zelensky devant l\\'assemblée générale de l\\'onu, a annoncé le ministère polonais des affaires étrangères. kiev a répondu en invitant la partie polonaise à \"mettre l\\'émotion de côte\". la démarche polonaise vise les propos tenus mardi par le président ukrainien, selon lesquels \"certains pays feignent la solidarité [à l\\'égard de l\\'ukraine] en soutenant indirectement la russie\". suivez notre direct.\\n\\nvolodymyr zelensky accuse la russie de génocide. la déportation par moscou de \"dizaines de milliers\" d\\'enfants ukrainiens est \"clairement un génocide\", a accusé mardi à la tribune de l\\'onu le président ukrainien volodymyr zelensky. \"nous essayons de faire rentrer ces enfants à la maison, mais le temps passe. qu\\'est-ce qui va leur arriver ? en russie, on leur apprend la haine de l\\'ukraine, et tous les liens avec leurs familles sont coupés\", a-t-il fustigé.\\n\\nnouvelle attaque de drones ukrainiens en russie. moscou a affirmé, mercredi, avoir détruit dans la nuit quatre drones ukrainiens au-dessus des régions de belgorod, frontalière de l\\'ukraine, et d\\'orel, aussi dans l\\'ouest. le ministère de la défense russe n\\'a pas communiqué d\\'informations sur d\\'éventuels dégâts ou victimes à ce stade.\\n\\nl\\'opposition biélorusse s\\'inquiète d\\'un rapprochement avec la russie. l\\'opposante biélorusse en exil, svetlana tikhanovskaïa, a exhorté, mardi, les dirigeants du monde à ne pas oublier son pays. elle redoute que la biélorussie, isolée diplomatiquement, ne devienne un \"lot de consolation\" pour le président russe, vladimir poutine, dans le contexte de la guerre en ukraine.\\n\\n\\n'"
            ]
          },
          "execution_count": 81,
          "metadata": {},
          "output_type": "execute_result"
        }
      ],
      "source": [
        "normalized_text_3"
      ]
    },
    {
      "cell_type": "code",
      "execution_count": 84,
      "metadata": {
        "colab": {
          "base_uri": "https://localhost:8080/"
        },
        "id": "udm1zoa5FzdT",
        "outputId": "286bc4fe-bdd6-450d-c0f2-1ac11f5b4060"
      },
      "outputs": [
        {
          "name": "stdout",
          "output_type": "stream",
          "text": [
            "la pologne a convoqué d'urgence l'ambassadeur d'ukraine pour protester contre les propos du président volodymyr zelensky à l'onu qui a accusé certains pays de feindre la solidarité à l'égard de l'ukraine en soutenant indirectement la russie\n",
            "ce qu'il faut savoir\n",
            "la pologne a convoqué d'urgence mercredi 20 septembre l'ambassadeur d'ukraine pour protester contre les propos du président volodymyr zelensky devant l'assemblée générale de l'onu a annoncé le ministère polonais des affaires étrangères kiev a répondu en invitant la partie polonaise à mettre l'émotion de côte la démarche polonaise vise les propos tenus mardi par le président ukrainien selon lesquels certains pays feignent la solidarité à l'égard de l'ukraine en soutenant indirectement la russie suivez notre direct\n",
            "\n",
            "volodymyr zelensky accuse la russie de génocide la déportation par moscou de dizaines de milliers d'enfants ukrainiens est clairement un génocide a accusé mardi à la tribune de l'onu le président ukrainien volodymyr zelensky nous essayons de faire rentrer ces enfants à la maison mais le temps passe qu'estce qui va leur arriver  en russie on leur apprend la haine de l'ukraine et tous les liens avec leurs familles sont coupés atil fustigé\n",
            "\n",
            "nouvelle attaque de drones ukrainiens en russie moscou a affirmé mercredi avoir détruit dans la nuit quatre drones ukrainiens audessus des régions de belgorod frontalière de l'ukraine et d'orel aussi dans l'ouest le ministère de la défense russe n'a pas communiqué d'informations sur d'éventuels dégâts ou victimes à ce stade\n",
            "\n",
            "l'opposition biélorusse s'inquiète d'un rapprochement avec la russie l'opposante biélorusse en exil svetlana tikhanovskaïa a exhorté mardi les dirigeants du monde à ne pas oublier son pays elle redoute que la biélorussie isolée diplomatiquement ne devienne un lot de consolation pour le président russe vladimir poutine dans le contexte de la guerre en ukraine\n",
            "\n",
            "\n",
            "\n"
          ]
        }
      ],
      "source": [
        "import re\n",
        "\n",
        "# Define a regular expression pattern that identifies contractions with '\n",
        "contraction_pattern = r\"(\\w+)'\\w+\"\n",
        "\n",
        "# Find all contractions in the text\n",
        "contractions_1 = re.findall(contraction_pattern, normalized_text_1)\n",
        "contractions_2 = re.findall(contraction_pattern, normalized_text_2)\n",
        "contractions_3 = re.findall(contraction_pattern, normalized_text_3)\n",
        "\n",
        "# Remove punctuation, except for '\n",
        "normalized_text_1 = re.sub(r'[^\\w\\s\\']', '', normalized_text_1)\n",
        "normalized_text_2 = re.sub(r'[^\\w\\s\\']', '', normalized_text_2)\n",
        "normalized_text_3 = re.sub(r'[^\\w\\s\\']', '', normalized_text_3)\n",
        "\n",
        "# Split contractions\n",
        "for contraction in contractions_1:\n",
        "    expanded_form = \" \".join(contraction.split(\"'\"))\n",
        "    normalized_text_1 = normalized_text_1.replace(contraction, expanded_form)\n",
        "\n",
        "for contraction in contractions_2:\n",
        "    expanded_form = \" \".join(contraction.split(\"'\"))\n",
        "    normalized_text_2 = normalized_text_2.replace(contraction, expanded_form)\n",
        "\n",
        "for contraction in contractions_3:\n",
        "    expanded_form = \" \".join(contraction.split(\"'\"))\n",
        "    normalized_text_3 = normalized_text_3.replace(contraction, expanded_form)\n",
        "\n",
        "print(normalized_text_3)\n"
      ]
    },
    {
      "cell_type": "code",
      "execution_count": 85,
      "metadata": {
        "colab": {
          "base_uri": "https://localhost:8080/"
        },
        "id": "St1xaGQ8BiSh",
        "outputId": "e04eb477-78b9-47f6-b637-14fa7eaebb0b"
      },
      "outputs": [
        {
          "name": "stdout",
          "output_type": "stream",
          "text": [
            "['le', 'maroc', 'a', 'annoncé', 'mercredi', '20', 'septembre', 'un', 'budget', 'de', 'près', 'de', '11', 'milliards', 'deuros', 'destiné', 'à', 'la', 'reconstruction', 'au', 'relogement', 'et', 'à', 'la', 'valorisation', 'socioéconomique', 'des', 'zones', 'touchées', 'par', 'le', 'séisme', 'du', '8', 'septembre', 'daprès', 'le', 'dernier', 'bilan', 'officiel', 'près', 'de', '3', '000', 'personnes', 'sont', 'mortes', 'et', 'plus', 'de', '5', '600', 'ont', 'été', 'blessées', 'dans', 'le', 'séisme', 'ayant', 'touché', 'la', 'province', 'dal', 'haouz', 'au', 'sud', 'de', 'marrakech', 'affectant', 'notamment', 'des', 'zones', 'montagneuses', 'reculées', 'lenveloppe', 'prévue', 'par', 'les', 'autorités', 'de', '120', 'milliards', 'de', 'dirhams', 'environ', '11', 'milliards', 'deuros', 'doit', 'bénéficier', 'à', '42', 'millions', 'dhabitants', 'sur', 'une', 'période', 'de', 'cinq', 'ans', 'a', 'fait', 'savoir', 'le', 'cabinet', 'royal', 'dans', 'un', 'communiqué', 'le', 'programme', 'porte', 'notamment', 'sur', 'le', 'relogement', 'des', 'personnes', 'sinistrées', 'la', 'reconstruction', 'des', 'logements', 'et', 'la', 'réhabilitation', 'des', 'infrastructures', 'précise', 'le', 'texte', 'publié', 'à', 'lissue', 'dune', 'réunion', 'présidée', 'par', 'le', 'roi', 'mohammed', 'vi', 'il', 'doit', 'également', 'permettre', 'le', 'désenclavement', 'et', 'la', 'mise', 'à', 'niveau', 'des', 'territoires', 'et', 'encourager', 'lactivité', 'économique', 'de', 'ces', 'régions', 'largement', 'défavorisées', 'depuis', 'le', '8', 'septembre', 'les', 'rescapés', 'ont', 'été', 'relogés', 'dans', 'des', 'campements', 'où', 'ils', 'vivent', 'avec', 'les', 'aides', 'des', 'autorités', 'et', 'de', 'bénévoles', 'le', 'nombre', 'de', 'sansabri', 'résultant', 'du', 'séisme', 'nest', 'pas', 'connu']\n"
          ]
        }
      ],
      "source": [
        "from nltk.tokenize import word_tokenize\n",
        "\n",
        "tokenized_words_1= word_tokenize(normalized_text_1, language='french')\n",
        "tokenized_words_2= word_tokenize(normalized_text_2, language='french')\n",
        "tokenized_words_3= word_tokenize(normalized_text_3, language='french')\n",
        "\n",
        "print(tokenized_words_1)"
      ]
    },
    {
      "cell_type": "code",
      "execution_count": 86,
      "metadata": {
        "colab": {
          "base_uri": "https://localhost:8080/"
        },
        "id": "wxeaqiG3oKYh",
        "outputId": "ef8dba24-22e7-4415-ce9d-1d1e5b357fa0"
      },
      "outputs": [
        {
          "name": "stdout",
          "output_type": "stream",
          "text": [
            "['la', 'pologne', 'a', 'convoqué', \"d'urgence\", \"l'ambassadeur\", \"d'ukraine\", 'pour', 'protester', 'contre', 'les', 'propos', 'du', 'président', 'volodymyr', 'zelensky', 'à', \"l'onu\", 'qui', 'a', 'accusé', 'certains', 'pays', 'de', 'feindre', 'la', 'solidarité', 'à', \"l'égard\", 'de', \"l'ukraine\", 'en', 'soutenant', 'indirectement', 'la', 'russie', 'ce', \"qu'il\", 'faut', 'savoir', 'la', 'pologne', 'a', 'convoqué', \"d'urgence\", 'mercredi', '20', 'septembre', \"l'ambassadeur\", \"d'ukraine\", 'pour', 'protester', 'contre', 'les', 'propos', 'du', 'président', 'volodymyr', 'zelensky', 'devant', \"l'assemblée\", 'générale', 'de', \"l'onu\", 'a', 'annoncé', 'le', 'ministère', 'polonais', 'des', 'affaires', 'étrangères', 'kiev', 'a', 'répondu', 'en', 'invitant', 'la', 'partie', 'polonaise', 'à', 'mettre', \"l'émotion\", 'de', 'côte', 'la', 'démarche', 'polonaise', 'vise', 'les', 'propos', 'tenus', 'mardi', 'par', 'le', 'président', 'ukrainien', 'selon', 'lesquels', 'certains', 'pays', 'feignent', 'la', 'solidarité', 'à', \"l'égard\", 'de', \"l'ukraine\", 'en', 'soutenant', 'indirectement', 'la', 'russie', 'suivez', 'notre', 'direct', 'volodymyr', 'zelensky', 'accuse', 'la', 'russie', 'de', 'génocide', 'la', 'déportation', 'par', 'moscou', 'de', 'dizaines', 'de', 'milliers', \"d'enfants\", 'ukrainiens', 'est', 'clairement', 'un', 'génocide', 'a', 'accusé', 'mardi', 'à', 'la', 'tribune', 'de', \"l'onu\", 'le', 'président', 'ukrainien', 'volodymyr', 'zelensky', 'nous', 'essayons', 'de', 'faire', 'rentrer', 'ces', 'enfants', 'à', 'la', 'maison', 'mais', 'le', 'temps', 'passe', \"qu'estce\", 'qui', 'va', 'leur', 'arriver', 'en', 'russie', 'on', 'leur', 'apprend', 'la', 'haine', 'de', \"l'ukraine\", 'et', 'tous', 'les', 'liens', 'avec', 'leurs', 'familles', 'sont', 'coupés', 'atil', 'fustigé', 'nouvelle', 'attaque', 'de', 'drones', 'ukrainiens', 'en', 'russie', 'moscou', 'a', 'affirmé', 'mercredi', 'avoir', 'détruit', 'dans', 'la', 'nuit', 'quatre', 'drones', 'ukrainiens', 'audessus', 'des', 'régions', 'de', 'belgorod', 'frontalière', 'de', \"l'ukraine\", 'et', \"d'orel\", 'aussi', 'dans', \"l'ouest\", 'le', 'ministère', 'de', 'la', 'défense', 'russe', 'n', \"'\", 'a', 'pas', 'communiqué', \"d'informations\", 'sur', \"d'éventuels\", 'dégâts', 'ou', 'victimes', 'à', 'ce', 'stade', \"l'opposition\", 'biélorusse', \"s'inquiète\", \"d'un\", 'rapprochement', 'avec', 'la', 'russie', \"l'opposante\", 'biélorusse', 'en', 'exil', 'svetlana', 'tikhanovskaïa', 'a', 'exhorté', 'mardi', 'les', 'dirigeants', 'du', 'monde', 'à', 'ne', 'pas', 'oublier', 'son', 'pays', 'elle', 'redoute', 'que', 'la', 'biélorussie', 'isolée', 'diplomatiquement', 'ne', 'devienne', 'un', 'lot', 'de', 'consolation', 'pour', 'le', 'président', 'russe', 'vladimir', 'poutine', 'dans', 'le', 'contexte', 'de', 'la', 'guerre', 'en', 'ukraine']\n"
          ]
        }
      ],
      "source": [
        "print(tokenized_words_3)"
      ]
    },
    {
      "cell_type": "code",
      "execution_count": 87,
      "metadata": {
        "id": "ZGm4mXw7a9zY"
      },
      "outputs": [],
      "source": [
        "preprocessed_words_1 = [re.sub(r\"'\\w+\", \"\", word) for word in tokenized_words_1]\n",
        "preprocessed_words_2 = [re.sub(r\"'\\w+\", \"\", word) for word in tokenized_words_2]\n",
        "preprocessed_words_3 = [re.sub(r\"'\\w+\", \"\", word) for word in tokenized_words_3]"
      ]
    },
    {
      "cell_type": "code",
      "execution_count": 88,
      "metadata": {
        "colab": {
          "base_uri": "https://localhost:8080/"
        },
        "id": "LGzxI1GRoc08",
        "outputId": "c4ecfc75-ab9d-4d1e-bd2e-b5509482215d"
      },
      "outputs": [
        {
          "data": {
            "text/plain": [
              "['la',\n",
              " 'pologne',\n",
              " 'a',\n",
              " 'convoqué',\n",
              " 'd',\n",
              " 'l',\n",
              " 'd',\n",
              " 'pour',\n",
              " 'protester',\n",
              " 'contre',\n",
              " 'les',\n",
              " 'propos',\n",
              " 'du',\n",
              " 'président',\n",
              " 'volodymyr',\n",
              " 'zelensky',\n",
              " 'à',\n",
              " 'l',\n",
              " 'qui',\n",
              " 'a',\n",
              " 'accusé',\n",
              " 'certains',\n",
              " 'pays',\n",
              " 'de',\n",
              " 'feindre',\n",
              " 'la',\n",
              " 'solidarité',\n",
              " 'à',\n",
              " 'l',\n",
              " 'de',\n",
              " 'l',\n",
              " 'en',\n",
              " 'soutenant',\n",
              " 'indirectement',\n",
              " 'la',\n",
              " 'russie',\n",
              " 'ce',\n",
              " 'qu',\n",
              " 'faut',\n",
              " 'savoir',\n",
              " 'la',\n",
              " 'pologne',\n",
              " 'a',\n",
              " 'convoqué',\n",
              " 'd',\n",
              " 'mercredi',\n",
              " '20',\n",
              " 'septembre',\n",
              " 'l',\n",
              " 'd',\n",
              " 'pour',\n",
              " 'protester',\n",
              " 'contre',\n",
              " 'les',\n",
              " 'propos',\n",
              " 'du',\n",
              " 'président',\n",
              " 'volodymyr',\n",
              " 'zelensky',\n",
              " 'devant',\n",
              " 'l',\n",
              " 'générale',\n",
              " 'de',\n",
              " 'l',\n",
              " 'a',\n",
              " 'annoncé',\n",
              " 'le',\n",
              " 'ministère',\n",
              " 'polonais',\n",
              " 'des',\n",
              " 'affaires',\n",
              " 'étrangères',\n",
              " 'kiev',\n",
              " 'a',\n",
              " 'répondu',\n",
              " 'en',\n",
              " 'invitant',\n",
              " 'la',\n",
              " 'partie',\n",
              " 'polonaise',\n",
              " 'à',\n",
              " 'mettre',\n",
              " 'l',\n",
              " 'de',\n",
              " 'côte',\n",
              " 'la',\n",
              " 'démarche',\n",
              " 'polonaise',\n",
              " 'vise',\n",
              " 'les',\n",
              " 'propos',\n",
              " 'tenus',\n",
              " 'mardi',\n",
              " 'par',\n",
              " 'le',\n",
              " 'président',\n",
              " 'ukrainien',\n",
              " 'selon',\n",
              " 'lesquels',\n",
              " 'certains',\n",
              " 'pays',\n",
              " 'feignent',\n",
              " 'la',\n",
              " 'solidarité',\n",
              " 'à',\n",
              " 'l',\n",
              " 'de',\n",
              " 'l',\n",
              " 'en',\n",
              " 'soutenant',\n",
              " 'indirectement',\n",
              " 'la',\n",
              " 'russie',\n",
              " 'suivez',\n",
              " 'notre',\n",
              " 'direct',\n",
              " 'volodymyr',\n",
              " 'zelensky',\n",
              " 'accuse',\n",
              " 'la',\n",
              " 'russie',\n",
              " 'de',\n",
              " 'génocide',\n",
              " 'la',\n",
              " 'déportation',\n",
              " 'par',\n",
              " 'moscou',\n",
              " 'de',\n",
              " 'dizaines',\n",
              " 'de',\n",
              " 'milliers',\n",
              " 'd',\n",
              " 'ukrainiens',\n",
              " 'est',\n",
              " 'clairement',\n",
              " 'un',\n",
              " 'génocide',\n",
              " 'a',\n",
              " 'accusé',\n",
              " 'mardi',\n",
              " 'à',\n",
              " 'la',\n",
              " 'tribune',\n",
              " 'de',\n",
              " 'l',\n",
              " 'le',\n",
              " 'président',\n",
              " 'ukrainien',\n",
              " 'volodymyr',\n",
              " 'zelensky',\n",
              " 'nous',\n",
              " 'essayons',\n",
              " 'de',\n",
              " 'faire',\n",
              " 'rentrer',\n",
              " 'ces',\n",
              " 'enfants',\n",
              " 'à',\n",
              " 'la',\n",
              " 'maison',\n",
              " 'mais',\n",
              " 'le',\n",
              " 'temps',\n",
              " 'passe',\n",
              " 'qu',\n",
              " 'qui',\n",
              " 'va',\n",
              " 'leur',\n",
              " 'arriver',\n",
              " 'en',\n",
              " 'russie',\n",
              " 'on',\n",
              " 'leur',\n",
              " 'apprend',\n",
              " 'la',\n",
              " 'haine',\n",
              " 'de',\n",
              " 'l',\n",
              " 'et',\n",
              " 'tous',\n",
              " 'les',\n",
              " 'liens',\n",
              " 'avec',\n",
              " 'leurs',\n",
              " 'familles',\n",
              " 'sont',\n",
              " 'coupés',\n",
              " 'atil',\n",
              " 'fustigé',\n",
              " 'nouvelle',\n",
              " 'attaque',\n",
              " 'de',\n",
              " 'drones',\n",
              " 'ukrainiens',\n",
              " 'en',\n",
              " 'russie',\n",
              " 'moscou',\n",
              " 'a',\n",
              " 'affirmé',\n",
              " 'mercredi',\n",
              " 'avoir',\n",
              " 'détruit',\n",
              " 'dans',\n",
              " 'la',\n",
              " 'nuit',\n",
              " 'quatre',\n",
              " 'drones',\n",
              " 'ukrainiens',\n",
              " 'audessus',\n",
              " 'des',\n",
              " 'régions',\n",
              " 'de',\n",
              " 'belgorod',\n",
              " 'frontalière',\n",
              " 'de',\n",
              " 'l',\n",
              " 'et',\n",
              " 'd',\n",
              " 'aussi',\n",
              " 'dans',\n",
              " 'l',\n",
              " 'le',\n",
              " 'ministère',\n",
              " 'de',\n",
              " 'la',\n",
              " 'défense',\n",
              " 'russe',\n",
              " 'n',\n",
              " \"'\",\n",
              " 'a',\n",
              " 'pas',\n",
              " 'communiqué',\n",
              " 'd',\n",
              " 'sur',\n",
              " 'd',\n",
              " 'dégâts',\n",
              " 'ou',\n",
              " 'victimes',\n",
              " 'à',\n",
              " 'ce',\n",
              " 'stade',\n",
              " 'l',\n",
              " 'biélorusse',\n",
              " 's',\n",
              " 'd',\n",
              " 'rapprochement',\n",
              " 'avec',\n",
              " 'la',\n",
              " 'russie',\n",
              " 'l',\n",
              " 'biélorusse',\n",
              " 'en',\n",
              " 'exil',\n",
              " 'svetlana',\n",
              " 'tikhanovskaïa',\n",
              " 'a',\n",
              " 'exhorté',\n",
              " 'mardi',\n",
              " 'les',\n",
              " 'dirigeants',\n",
              " 'du',\n",
              " 'monde',\n",
              " 'à',\n",
              " 'ne',\n",
              " 'pas',\n",
              " 'oublier',\n",
              " 'son',\n",
              " 'pays',\n",
              " 'elle',\n",
              " 'redoute',\n",
              " 'que',\n",
              " 'la',\n",
              " 'biélorussie',\n",
              " 'isolée',\n",
              " 'diplomatiquement',\n",
              " 'ne',\n",
              " 'devienne',\n",
              " 'un',\n",
              " 'lot',\n",
              " 'de',\n",
              " 'consolation',\n",
              " 'pour',\n",
              " 'le',\n",
              " 'président',\n",
              " 'russe',\n",
              " 'vladimir',\n",
              " 'poutine',\n",
              " 'dans',\n",
              " 'le',\n",
              " 'contexte',\n",
              " 'de',\n",
              " 'la',\n",
              " 'guerre',\n",
              " 'en',\n",
              " 'ukraine']"
            ]
          },
          "execution_count": 88,
          "metadata": {},
          "output_type": "execute_result"
        }
      ],
      "source": [
        "preprocessed_words_3"
      ]
    },
    {
      "cell_type": "code",
      "execution_count": 89,
      "metadata": {
        "colab": {
          "base_uri": "https://localhost:8080/",
          "height": 992
        },
        "id": "Ur59O2bJP5y2",
        "outputId": "96ecf4cd-d5c1-48a7-a307-b8c5c7eea226"
      },
      "outputs": [
        {
          "name": "stdout",
          "output_type": "stream",
          "text": [
            "le: 12\n",
            "de: 11\n",
            "des: 8\n",
            "la: 6\n",
            "et: 6\n",
            "à: 5\n",
            "septembre: 3\n",
            "milliards: 3\n",
            "par: 3\n",
            "séisme: 3\n",
            "dans: 3\n",
            "les: 3\n",
            "a: 2\n",
            "un: 2\n",
            "près: 2\n",
            "11: 2\n",
            "deuros: 2\n",
            "reconstruction: 2\n",
            "au: 2\n",
            "relogement: 2\n"
          ]
        },
        {
          "data": {
            "text/plain": [
              "<Figure size 640x480 with 0 Axes>"
            ]
          },
          "metadata": {},
          "output_type": "display_data"
        },
        {
          "data": {
            "image/png": "[encoded data removed]",
            "text/plain": [
              "<Figure size 1200x600 with 1 Axes>"
            ]
          },
          "metadata": {},
          "output_type": "display_data"
        }
      ],
      "source": [
        "import nltk\n",
        "from nltk.probability import FreqDist\n",
        "import matplotlib.pyplot as plt\n",
        "\n",
        "\n",
        "# Calculate word frequencies using FreqDist\n",
        "\n",
        "freq_dist_1 = FreqDist(preprocessed_words_1)\n",
        "freq_dist_2 = FreqDist(preprocessed_words_2)\n",
        "freq_dist_3 = FreqDist(preprocessed_words_3)\n",
        "\n",
        "# Get the most common words and their frequencies\n",
        "most_common_words_1 = freq_dist_1.most_common(20) # Change the number as needed\n",
        "most_common_words_2 = freq_dist_2.most_common(20)\n",
        "most_common_words_3 = freq_dist_3.most_common(20)\n",
        "\n",
        "# Print the most common words and their frequencies\n",
        "for word, frequency in most_common_words_1:\n",
        "    print(f\"{word}: {frequency}\")\n",
        "\n",
        "# Clear any existing figures (to ensure only one plot)\n",
        "plt.clf()\n",
        "\n",
        "\n",
        "plt.figure(figsize=(12, 6))\n",
        "freq_dist_1.plot(30, cumulative=False)\n",
        "\n",
        "\n",
        "# Display the plot explicitly\n",
        "plt.show()\n"
      ]
    },
    {
      "cell_type": "code",
      "execution_count": 90,
      "metadata": {
        "id": "KLqPKU1iViJJ"
      },
      "outputs": [],
      "source": [
        "# Rank the words and get their frequencies\n",
        "ranks_1 = list(range(1, len(most_common_words_1) + 1))\n",
        "frequencies_1 = [freq for _, freq in most_common_words_1]\n",
        "\n",
        "ranks_2 = list(range(1, len(most_common_words_2) + 1))\n",
        "frequencies_2 = [freq for _, freq in most_common_words_2]\n",
        "\n",
        "ranks_3 = list(range(1, len(most_common_words_3) + 1))\n",
        "frequencies_3 = [freq for _, freq in most_common_words_3]"
      ]
    },
    {
      "cell_type": "code",
      "execution_count": 155,
      "metadata": {
        "colab": {
          "base_uri": "https://localhost:8080/",
          "height": 467
        },
        "id": "SZCQOh41Ty1V",
        "outputId": "4fcd24d1-8c83-4090-8404-a201404ed904"
      },
      "outputs": [
        {
          "data": {
            "image/png": "[encoded data removed]",
            "text/plain": [
              "<Figure size 800x400 with 1 Axes>"
            ]
          },
          "metadata": {},
          "output_type": "display_data"
        },
        {
          "name": "stdout",
          "output_type": "stream",
          "text": [
            "Exponent (a) of the power-law curve text 1: -0.717\n",
            "Exponent (a) of the power-law curve text 2: -0.715\n",
            "Exponent (a) of the power-law curve text 3: -0.740\n"
          ]
        }
      ],
      "source": [
        "import numpy as np\n",
        "import matplotlib.pyplot as plt\n",
        "from scipy.optimize import curve_fit\n",
        "\n",
        "# Assuming you have already calculated ranks and frequencies as in previous examples\n",
        "\n",
        "# Log-transform the ranks and frequencies for fitting a linear regression model\n",
        "log_ranks_1 = np.log10(ranks_1)\n",
        "log_frequencies_1 = np.log10(frequencies_1)\n",
        "\n",
        "log_ranks_2 = np.log10(ranks_2)\n",
        "log_frequencies_2 = np.log10(frequencies_2)\n",
        "\n",
        "log_ranks_3 = np.log10(ranks_3)\n",
        "log_frequencies_3 = np.log10(frequencies_3)\n",
        "\n",
        "# Define a linear function for the power-law curve (y = a * x + b)\n",
        "def power_law(x, a, b):\n",
        "    return a * x + b\n",
        "\n",
        "# Fit the power-law curve using curve_fit\n",
        "params_1, covariance_1 = curve_fit(power_law, log_ranks_1, log_frequencies_1)\n",
        "\n",
        "params_2, covariance_2 = curve_fit(power_law, log_ranks_2, log_frequencies_2)\n",
        "\n",
        "params_3, covariance_3 = curve_fit(power_law, log_ranks_3, log_frequencies_3)\n",
        "\n",
        "# Extract the exponent (a) from the fitted parameters\n",
        "exponent_1 = params_1[0]\n",
        "\n",
        "exponent_2 = params_2[0]\n",
        "\n",
        "exponent_3 = params_3[0]\n",
        "\n",
        "# Create a frequency-rank plot\n",
        "plt.figure(figsize=(8, 4))\n",
        "plt.loglog(ranks_1, frequencies_1, marker='.', label='Observed Distribution text 1')\n",
        "plt.loglog(ranks_2, frequencies_2, marker='.',color='red', label='Observed Distribution text 2')\n",
        "plt.loglog(ranks_3, frequencies_3, marker='.',color='green', label='Observed Distribution text 3')\n",
        "# # Generate the expected Zipfian distribution based on word count\n",
        "# total_word_count = sum(frequencies)\n",
        "# zipf_distribution = [total_word_count / rank for rank in ranks]\n",
        "# # Overlay the Zipfian distribution on the plot\n",
        "# plt.loglog(ranks, zipf_distribution, linestyle='--', color='red', label='Zipfian Distribution')\n",
        "\n",
        "plt.title(\"Word Frequency Distribution\")\n",
        "plt.xlabel(\"Rank\")\n",
        "plt.ylabel(\"Frequency\")\n",
        "plt.legend()\n",
        "plt.grid(True)\n",
        "plt.show()\n",
        "\n",
        "# Print the calculated exponent\n",
        "print(f\"Exponent (a) of the power-law curve text 1: {exponent_1:.3f}\\nExponent (a) of the power-law curve text 2: {exponent_2:.3f}\\nExponent (a) of the power-law curve text 3: {exponent_3:.3f}\")\n"
      ]
    },
    {
      "attachments": {},
      "cell_type": "markdown",
      "metadata": {
        "id": "FRB65i7twG9b"
      },
      "source": [
        "# **Similarity Measure**"
      ]
    },
    {
      "cell_type": "code",
      "execution_count": 146,
      "metadata": {
        "id": "cEaWprCt476t"
      },
      "outputs": [],
      "source": [
        "import nltk\n",
        "from nltk.corpus import stopwords\n",
        "from nltk.tokenize import word_tokenize\n",
        "from sklearn.feature_extraction.text import TfidfVectorizer\n",
        "from sklearn.metrics.pairwise import cosine_similarity\n",
        "from nltk.stem.snowball import SnowballStemmer"
      ]
    },
    {
      "cell_type": "code",
      "execution_count": 147,
      "metadata": {
        "id": "q8dp17Lw5J3Z"
      },
      "outputs": [],
      "source": [
        "# article\n",
        "article1 = news_ukraine\n",
        "article2 = news_ukraine_2\n",
        "article3=news_maroc"
      ]
    },
    {
      "cell_type": "code",
      "execution_count": 148,
      "metadata": {
        "colab": {
          "base_uri": "https://localhost:8080/"
        },
        "id": "UKA6R57C5PcI",
        "outputId": "57f50338-6305-470d-eeac-4334b71d2254"
      },
      "outputs": [
        {
          "name": "stderr",
          "output_type": "stream",
          "text": [
            "[nltk_data] Downloading package stopwords to /root/nltk_data...\n",
            "[nltk_data]   Package stopwords is already up-to-date!\n",
            "[nltk_data] Downloading package punkt to /root/nltk_data...\n",
            "[nltk_data]   Package punkt is already up-to-date!\n"
          ]
        }
      ],
      "source": [
        "# Tokenize and preprocess the text\n",
        "nltk.download('stopwords')\n",
        "nltk.download('punkt')\n",
        "stop_words = set(stopwords.words('french'))\n",
        "\n",
        "# Stemming - Apply stemming to the filtered words\n",
        "stemmer = SnowballStemmer(\"french\")  # Initialize the stemmer for French"
      ]
    },
    {
      "cell_type": "code",
      "execution_count": 152,
      "metadata": {
        "id": "qoFlODRA5Ubd"
      },
      "outputs": [],
      "source": [
        "def preprocess(text):\n",
        "    tokens = word_tokenize(text.lower())\n",
        "    tokens = [stemmer.stem(token) for token in tokens if token.isalnum() and token not in stop_words]\n",
        "    return \" \".join(tokens)\n",
        "\n",
        "article1 = preprocess(article1)\n",
        "article2 = preprocess(article2)\n",
        "article3=preprocess(article3)"
      ]
    },
    {
      "cell_type": "code",
      "execution_count": 153,
      "metadata": {
        "colab": {
          "base_uri": "https://localhost:8080/",
          "height": 140
        },
        "id": "bluFfDvh5Z--",
        "outputId": "274404ed-d93a-4fd1-fe80-f43c23f792f1"
      },
      "outputs": [
        {
          "data": {
            "application/vnd.google.colaboratory.intrinsic+json": {
              "type": "string"
            },
            "text/plain": [
              "'guerr ukrain qg flott russ crim bombard attaqu missil ukrainien abattu vendred 22 septembr lieu strateg forc occup situ vill sébastopol bât flamm moin militair a tu chanti naval pris cibl a quelqu jour cet fois quarti général flott russ mer noir a attaqu ukrain vendred 22 septembr frapp missil lieu situ sébastopol crim ennem a men attaqu missil contr quarti général flott a écrit telegram gouverneur install moscou sébastopol suit annexion 2014 mikhaïl razvojaïev cinq missil abattus défens antiaérien bât histor quarti général flott mer noir a endommag attaqu selon inform disponibl militair a tu a indiqu communiqu telegram minister russ défens bât flamm lutt contr incend quarti général flott poursuit a indiqu telegram respons district administr sébastopol mikhaïl razvojaïev tand gouverneur russ crim sergueï aksionov a affirm missil croisi abattus péninsul autor russ crim ukrainien annex ensuit déclar craindr deuxiem attaqu missil sébastopol quelqu minut apres avoir annonc quarti général flott russ mer noir frapp ven rest intérieur bât ceux trouv pres qg flott cas siren allez abris a écrit telegram mikhaïl razvojaïev gouverneur a flott russ mer noir bas port sébastopol centr command oper russ contr ukrain 31 juillet 2022 dron explos déjà bless six person frapp quarti général impos bât blanc styl classiqu situ cœur sébastopol pres parc mus tres fréquent depuis plusieur semain crim sébastopol particuli vis tres réguli attaqu ukrainien dron aérien naval cibl navir infrastructur militair met épreuv défens naval antiaérien russ crim essentiel approvision troup occup russ sud ukrain contrôl exerc russ côt ukrainien mer noir azov'"
            ]
          },
          "execution_count": 153,
          "metadata": {},
          "output_type": "execute_result"
        }
      ],
      "source": [
        "article1"
      ]
    },
    {
      "cell_type": "code",
      "execution_count": 154,
      "metadata": {
        "colab": {
          "base_uri": "https://localhost:8080/"
        },
        "id": "1lpi5nxGiI0f",
        "outputId": "20a68915-d0b7-4f4c-f3f3-711dfe193651"
      },
      "outputs": [
        {
          "name": "stdout",
          "output_type": "stream",
          "text": [
            "Cosine Similarity between the articles: 0.6223065260262295\n"
          ]
        }
      ],
      "source": [
        "# Create TF-IDF vectorizer\n",
        "tfidf_vectorizer = TfidfVectorizer()\n",
        "\n",
        "# Fit and transform the articles\n",
        "tfidf_matrix = tfidf_vectorizer.fit_transform([article1, article2])\n",
        "\n",
        "# Calculate cosine similarity between the two articles\n",
        "cosine_sim = cosine_similarity(tfidf_matrix[0], tfidf_matrix[1])\n",
        "\n",
        "# Print the similarity score\n",
        "print(f\"Cosine Similarity between the articles: {cosine_sim[0][0]}\")\n"
      ]
    }
  ],
  "metadata": {
    "colab": {
      "collapsed_sections": [
        "l94_yaB0vcZO"
      ],
      "provenance": []
    },
    "kernelspec": {
      "display_name": "Python 3",
      "name": "python3"
    },
    "language_info": {
      "name": "python"
    }
  },
  "nbformat": 4,
  "nbformat_minor": 0
}
