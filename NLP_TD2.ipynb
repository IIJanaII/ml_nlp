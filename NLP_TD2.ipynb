{
 "cells": [
  {
   "cell_type": "code",
   "execution_count": 1,
   "metadata": {},
   "outputs": [
    {
     "name": "stderr",
     "output_type": "stream",
     "text": [
      "[nltk_data] Downloading package punkt to\n",
      "[nltk_data]     C:\\Users\\jega_\\AppData\\Roaming\\nltk_data...\n",
      "[nltk_data]   Package punkt is already up-to-date!\n",
      "[nltk_data] Downloading package treebank to\n",
      "[nltk_data]     C:\\Users\\jega_\\AppData\\Roaming\\nltk_data...\n",
      "[nltk_data]   Unzipping corpora\\treebank.zip.\n",
      "[nltk_data] Downloading package wordnet to\n",
      "[nltk_data]     C:\\Users\\jega_\\AppData\\Roaming\\nltk_data...\n",
      "[nltk_data]   Package wordnet is already up-to-date!\n",
      "[nltk_data] Downloading package sentiwordnet to\n",
      "[nltk_data]     C:\\Users\\jega_\\AppData\\Roaming\\nltk_data...\n",
      "[nltk_data]   Package sentiwordnet is already up-to-date!\n",
      "[nltk_data] Downloading package averaged_perceptron_tagger to\n",
      "[nltk_data]     C:\\Users\\jega_\\AppData\\Roaming\\nltk_data...\n",
      "[nltk_data]   Package averaged_perceptron_tagger is already up-to-\n",
      "[nltk_data]       date!\n"
     ]
    },
    {
     "data": {
      "text/plain": [
       "True"
      ]
     },
     "execution_count": 1,
     "metadata": {},
     "output_type": "execute_result"
    }
   ],
   "source": [
    "import nltk\n",
    "nltk.download(\"punkt\")\n",
    "\n",
    "from nltk.tag import UnigramTagger\n",
    "from nltk.corpus import treebank\n",
    "nltk.download('treebank')\n",
    "import pandas as pd\n",
    "\n",
    "import os\n",
    "from nltk.corpus import sentiwordnet as swn\n",
    "from nltk.tokenize import word_tokenize, sent_tokenize\n",
    "from nltk.tag import pos_tag\n",
    "from nltk.sentiment.util import mark_negation\n",
    "\n",
    "\n",
    "nltk.download('wordnet')\n",
    "nltk.download('sentiwordnet')\n",
    "nltk.download('averaged_perceptron_tagger')"
   ]
  },
  {
   "cell_type": "markdown",
   "metadata": {},
   "source": [
    "# **Data collection**"
   ]
  },
  {
   "cell_type": "code",
   "execution_count": 6,
   "metadata": {},
   "outputs": [],
   "source": [
    "\n",
    "neg_path=\"C:/Users/jega_/review_polarity/txt_sentoken/neg\"\n",
    "positive_path=\"C:/Users/jega_/review_polarity/txt_sentoken/pos\""
   ]
  },
  {
   "cell_type": "code",
   "execution_count": 18,
   "metadata": {},
   "outputs": [],
   "source": [
    "reviews = []\n",
    "labels = []"
   ]
  },
  {
   "cell_type": "code",
   "execution_count": 19,
   "metadata": {},
   "outputs": [],
   "source": [
    "for folder_name in [neg_path, positive_path]:\n",
    "    if folder_name.endswith(\"pos\"):\n",
    "        label=\"positive\"\n",
    "    elif folder_name.endswith(\"neg\"):\n",
    "        label=\"negative\"\n",
    "    \n",
    "    for filename in os.listdir(folder_name):\n",
    "        file_path = os.path.join(folder_name, filename)\n",
    "        with open(file_path, 'r', encoding='utf-8') as file:\n",
    "            text = file.read()\n",
    "            reviews.append(text)\n",
    "            labels.append(label)"
   ]
  },
  {
   "cell_type": "code",
   "execution_count": 48,
   "metadata": {},
   "outputs": [],
   "source": [
    "data = pd.DataFrame({'review': reviews, 'label': labels})"
   ]
  },
  {
   "cell_type": "code",
   "execution_count": 23,
   "metadata": {},
   "outputs": [
    {
     "data": {
      "text/html": [
       "<div>\n",
       "<style scoped>\n",
       "    .dataframe tbody tr th:only-of-type {\n",
       "        vertical-align: middle;\n",
       "    }\n",
       "\n",
       "    .dataframe tbody tr th {\n",
       "        vertical-align: top;\n",
       "    }\n",
       "\n",
       "    .dataframe thead th {\n",
       "        text-align: right;\n",
       "    }\n",
       "</style>\n",
       "<table border=\"1\" class=\"dataframe\">\n",
       "  <thead>\n",
       "    <tr style=\"text-align: right;\">\n",
       "      <th></th>\n",
       "      <th>review</th>\n",
       "      <th>label</th>\n",
       "    </tr>\n",
       "  </thead>\n",
       "  <tbody>\n",
       "    <tr>\n",
       "      <th>1995</th>\n",
       "      <td>wow ! what a movie . \\nit's everything a movie...</td>\n",
       "      <td>positive</td>\n",
       "    </tr>\n",
       "    <tr>\n",
       "      <th>1996</th>\n",
       "      <td>richard gere can be a commanding actor , but h...</td>\n",
       "      <td>positive</td>\n",
       "    </tr>\n",
       "    <tr>\n",
       "      <th>1997</th>\n",
       "      <td>glory--starring matthew broderick , denzel was...</td>\n",
       "      <td>positive</td>\n",
       "    </tr>\n",
       "    <tr>\n",
       "      <th>1998</th>\n",
       "      <td>steven spielberg's second epic film on world w...</td>\n",
       "      <td>positive</td>\n",
       "    </tr>\n",
       "    <tr>\n",
       "      <th>1999</th>\n",
       "      <td>truman ( \" true-man \" ) burbank is the perfect...</td>\n",
       "      <td>positive</td>\n",
       "    </tr>\n",
       "  </tbody>\n",
       "</table>\n",
       "</div>"
      ],
      "text/plain": [
       "                                                 review     label\n",
       "1995  wow ! what a movie . \\nit's everything a movie...  positive\n",
       "1996  richard gere can be a commanding actor , but h...  positive\n",
       "1997  glory--starring matthew broderick , denzel was...  positive\n",
       "1998  steven spielberg's second epic film on world w...  positive\n",
       "1999  truman ( \" true-man \" ) burbank is the perfect...  positive"
      ]
     },
     "execution_count": 23,
     "metadata": {},
     "output_type": "execute_result"
    }
   ],
   "source": [
    "data.tail()"
   ]
  },
  {
   "cell_type": "markdown",
   "metadata": {},
   "source": [
    "# **Tokenization and Score Sentiment**"
   ]
  },
  {
   "cell_type": "code",
   "execution_count": 67,
   "metadata": {},
   "outputs": [],
   "source": [
    "def get_adverbs(text):\n",
    "    tokens = nltk.word_tokenize(text)\n",
    "    tags = nltk.pos_tag(tokens)\n",
    "    adverbs = [word for word, tag in tags if tag.startswith('RB') or tag.startswith('JJ')] # we choose to keep adverbs and adjectifs because we have better accuracy\n",
    "    return adverbs"
   ]
  },
  {
   "cell_type": "code",
   "execution_count": 50,
   "metadata": {},
   "outputs": [],
   "source": [
    "data['adverbs'] = data['review'].apply(get_adverbs)"
   ]
  },
  {
   "cell_type": "code",
   "execution_count": 51,
   "metadata": {},
   "outputs": [
    {
     "data": {
      "text/plain": [
       "['then',\n",
       " 'sorta',\n",
       " 'mind-fuck',\n",
       " 'teen',\n",
       " 'very',\n",
       " 'cool',\n",
       " 'very',\n",
       " 'bad',\n",
       " 'even',\n",
       " 'harder',\n",
       " 'generally',\n",
       " 'such',\n",
       " 'good',\n",
       " 'bad',\n",
       " 'just',\n",
       " \"n't\",\n",
       " 'correctly',\n",
       " 'pretty',\n",
       " 'neat',\n",
       " 'terribly',\n",
       " 'well',\n",
       " 'main',\n",
       " 'simply',\n",
       " 'too',\n",
       " 'normal',\n",
       " 'then',\n",
       " 'fantasy',\n",
       " 'back',\n",
       " 'dead',\n",
       " 'dead',\n",
       " 'strange',\n",
       " 'weird',\n",
       " 'most',\n",
       " 'simply',\n",
       " 'not',\n",
       " 'now',\n",
       " 'personally',\n",
       " \"n't\",\n",
       " 'now',\n",
       " 'then',\n",
       " 'same',\n",
       " 'over',\n",
       " 'again',\n",
       " 'i',\n",
       " 'biggest',\n",
       " 'obviously',\n",
       " 'big',\n",
       " 'completely',\n",
       " 'final',\n",
       " 'even',\n",
       " 'not',\n",
       " 'really',\n",
       " 'sad',\n",
       " 'actually',\n",
       " 'most',\n",
       " 'half-way',\n",
       " 'little',\n",
       " 'still',\n",
       " \"n't\",\n",
       " 'more',\n",
       " 'bottom',\n",
       " 'always',\n",
       " 'sure',\n",
       " 'even',\n",
       " 'secret',\n",
       " 'i',\n",
       " 'melissa',\n",
       " 'away',\n",
       " 'just',\n",
       " 'plain',\n",
       " 'lazy',\n",
       " \"n't\",\n",
       " 'really',\n",
       " 'over',\n",
       " 'again',\n",
       " 'different',\n",
       " 'further',\n",
       " 'apparently',\n",
       " 'away',\n",
       " 'pretty',\n",
       " 'decent',\n",
       " 'teen',\n",
       " 'mind-fuck',\n",
       " 'here',\n",
       " 'somewhere',\n",
       " 'little',\n",
       " 'more',\n",
       " 'pretty',\n",
       " 'good',\n",
       " 'most',\n",
       " 'wes',\n",
       " 'just',\n",
       " 'exact',\n",
       " 'same',\n",
       " 'american',\n",
       " 'only',\n",
       " 'new',\n",
       " 'biggest',\n",
       " 'own',\n",
       " 'entire',\n",
       " 'actually',\n",
       " 'overall',\n",
       " \"n't\",\n",
       " \"n't\",\n",
       " 'rarely',\n",
       " 'pretty',\n",
       " 'most',\n",
       " 'pretty',\n",
       " 'not',\n",
       " 'teen',\n",
       " 'slasher',\n",
       " 'just',\n",
       " 'apparently',\n",
       " 'still',\n",
       " 'hot',\n",
       " 'also',\n",
       " 'ago',\n",
       " 'ever',\n",
       " 'elm']"
      ]
     },
     "execution_count": 51,
     "metadata": {},
     "output_type": "execute_result"
    }
   ],
   "source": [
    "data['adverbs'][0]"
   ]
  },
  {
   "cell_type": "code",
   "execution_count": 52,
   "metadata": {},
   "outputs": [],
   "source": [
    "def calculate_sentiment_score(adverbs):\n",
    "    sentiment_score = 0.0\n",
    "    for adverb in adverbs:\n",
    "        synsets = list(swn.senti_synsets(adverb))\n",
    "        if synsets:\n",
    "            \n",
    "            sentiment_score += synsets[0].pos_score() - synsets[0].neg_score()\n",
    "    return sentiment_score"
   ]
  },
  {
   "cell_type": "code",
   "execution_count": 53,
   "metadata": {},
   "outputs": [],
   "source": [
    "data['sentiment_score'] = data['adverbs'].apply(calculate_sentiment_score)"
   ]
  },
  {
   "cell_type": "markdown",
   "metadata": {},
   "source": [
    "# **Accuracy**"
   ]
  },
  {
   "cell_type": "code",
   "execution_count": 54,
   "metadata": {},
   "outputs": [],
   "source": [
    "# Define a threshold for classifying reviews as positive or negative.\n",
    "threshold = 0.0  # Adjust this threshold as needed.\n",
    "\n",
    "# Create a 'predicted_label' column based on the sentiment score and threshold.\n",
    "data['predicted_label'] = data['sentiment_score'].apply(lambda score: \"positive\" if score > threshold else \"negative\")"
   ]
  },
  {
   "cell_type": "code",
   "execution_count": 55,
   "metadata": {},
   "outputs": [
    {
     "data": {
      "text/html": [
       "<div>\n",
       "<style scoped>\n",
       "    .dataframe tbody tr th:only-of-type {\n",
       "        vertical-align: middle;\n",
       "    }\n",
       "\n",
       "    .dataframe tbody tr th {\n",
       "        vertical-align: top;\n",
       "    }\n",
       "\n",
       "    .dataframe thead th {\n",
       "        text-align: right;\n",
       "    }\n",
       "</style>\n",
       "<table border=\"1\" class=\"dataframe\">\n",
       "  <thead>\n",
       "    <tr style=\"text-align: right;\">\n",
       "      <th></th>\n",
       "      <th>review</th>\n",
       "      <th>label</th>\n",
       "      <th>adverbs</th>\n",
       "      <th>sentiment_score</th>\n",
       "      <th>predicted_label</th>\n",
       "    </tr>\n",
       "  </thead>\n",
       "  <tbody>\n",
       "    <tr>\n",
       "      <th>0</th>\n",
       "      <td>plot : two teen couples go to a church party ,...</td>\n",
       "      <td>negative</td>\n",
       "      <td>[then, sorta, mind-fuck, teen, very, cool, ver...</td>\n",
       "      <td>8.875</td>\n",
       "      <td>positive</td>\n",
       "    </tr>\n",
       "    <tr>\n",
       "      <th>1</th>\n",
       "      <td>the happy bastard's quick movie review \\ndamn ...</td>\n",
       "      <td>negative</td>\n",
       "      <td>[happy, quick, head, deserted, russian, back, ...</td>\n",
       "      <td>4.375</td>\n",
       "      <td>positive</td>\n",
       "    </tr>\n",
       "    <tr>\n",
       "      <th>2</th>\n",
       "      <td>it is movies like these that make a jaded movi...</td>\n",
       "      <td>negative</td>\n",
       "      <td>[jaded, timex, late, same, reformed, undercove...</td>\n",
       "      <td>-2.750</td>\n",
       "      <td>negative</td>\n",
       "    </tr>\n",
       "    <tr>\n",
       "      <th>3</th>\n",
       "      <td>\" quest for camelot \" is warner bros . ' firs...</td>\n",
       "      <td>negative</td>\n",
       "      <td>[quest, warner, first, feature-length, fully-a...</td>\n",
       "      <td>3.125</td>\n",
       "      <td>positive</td>\n",
       "    </tr>\n",
       "    <tr>\n",
       "      <th>4</th>\n",
       "      <td>synopsis : a mentally unstable man undergoing ...</td>\n",
       "      <td>negative</td>\n",
       "      <td>[mentally, unstable, psychotherapy, potentiall...</td>\n",
       "      <td>-5.875</td>\n",
       "      <td>negative</td>\n",
       "    </tr>\n",
       "    <tr>\n",
       "      <th>...</th>\n",
       "      <td>...</td>\n",
       "      <td>...</td>\n",
       "      <td>...</td>\n",
       "      <td>...</td>\n",
       "      <td>...</td>\n",
       "    </tr>\n",
       "    <tr>\n",
       "      <th>1995</th>\n",
       "      <td>wow ! what a movie . \\nit's everything a movie...</td>\n",
       "      <td>positive</td>\n",
       "      <td>[funny, dramatic, interesting, weird, funny, w...</td>\n",
       "      <td>14.750</td>\n",
       "      <td>positive</td>\n",
       "    </tr>\n",
       "    <tr>\n",
       "      <th>1996</th>\n",
       "      <td>richard gere can be a commanding actor , but h...</td>\n",
       "      <td>positive</td>\n",
       "      <td>[commanding, not, always, great, together, her...</td>\n",
       "      <td>1.375</td>\n",
       "      <td>positive</td>\n",
       "    </tr>\n",
       "    <tr>\n",
       "      <th>1997</th>\n",
       "      <td>glory--starring matthew broderick , denzel was...</td>\n",
       "      <td>positive</td>\n",
       "      <td>[denzel, morgan, true, first, black, civil, yo...</td>\n",
       "      <td>-5.500</td>\n",
       "      <td>negative</td>\n",
       "    </tr>\n",
       "    <tr>\n",
       "      <th>1998</th>\n",
       "      <td>steven spielberg's second epic film on world w...</td>\n",
       "      <td>positive</td>\n",
       "      <td>[steven, second, unquestioned, ever, grittiest...</td>\n",
       "      <td>8.125</td>\n",
       "      <td>positive</td>\n",
       "    </tr>\n",
       "    <tr>\n",
       "      <th>1999</th>\n",
       "      <td>truman ( \" true-man \" ) burbank is the perfect...</td>\n",
       "      <td>positive</td>\n",
       "      <td>[true-man, perfect, unassuming, known, truman,...</td>\n",
       "      <td>4.625</td>\n",
       "      <td>positive</td>\n",
       "    </tr>\n",
       "  </tbody>\n",
       "</table>\n",
       "<p>2000 rows × 5 columns</p>\n",
       "</div>"
      ],
      "text/plain": [
       "                                                 review     label  \\\n",
       "0     plot : two teen couples go to a church party ,...  negative   \n",
       "1     the happy bastard's quick movie review \\ndamn ...  negative   \n",
       "2     it is movies like these that make a jaded movi...  negative   \n",
       "3      \" quest for camelot \" is warner bros . ' firs...  negative   \n",
       "4     synopsis : a mentally unstable man undergoing ...  negative   \n",
       "...                                                 ...       ...   \n",
       "1995  wow ! what a movie . \\nit's everything a movie...  positive   \n",
       "1996  richard gere can be a commanding actor , but h...  positive   \n",
       "1997  glory--starring matthew broderick , denzel was...  positive   \n",
       "1998  steven spielberg's second epic film on world w...  positive   \n",
       "1999  truman ( \" true-man \" ) burbank is the perfect...  positive   \n",
       "\n",
       "                                                adverbs  sentiment_score  \\\n",
       "0     [then, sorta, mind-fuck, teen, very, cool, ver...            8.875   \n",
       "1     [happy, quick, head, deserted, russian, back, ...            4.375   \n",
       "2     [jaded, timex, late, same, reformed, undercove...           -2.750   \n",
       "3     [quest, warner, first, feature-length, fully-a...            3.125   \n",
       "4     [mentally, unstable, psychotherapy, potentiall...           -5.875   \n",
       "...                                                 ...              ...   \n",
       "1995  [funny, dramatic, interesting, weird, funny, w...           14.750   \n",
       "1996  [commanding, not, always, great, together, her...            1.375   \n",
       "1997  [denzel, morgan, true, first, black, civil, yo...           -5.500   \n",
       "1998  [steven, second, unquestioned, ever, grittiest...            8.125   \n",
       "1999  [true-man, perfect, unassuming, known, truman,...            4.625   \n",
       "\n",
       "     predicted_label  \n",
       "0           positive  \n",
       "1           positive  \n",
       "2           negative  \n",
       "3           positive  \n",
       "4           negative  \n",
       "...              ...  \n",
       "1995        positive  \n",
       "1996        positive  \n",
       "1997        negative  \n",
       "1998        positive  \n",
       "1999        positive  \n",
       "\n",
       "[2000 rows x 5 columns]"
      ]
     },
     "execution_count": 55,
     "metadata": {},
     "output_type": "execute_result"
    }
   ],
   "source": [
    "data"
   ]
  },
  {
   "cell_type": "code",
   "execution_count": 56,
   "metadata": {},
   "outputs": [
    {
     "name": "stdout",
     "output_type": "stream",
     "text": [
      "Accuracy: 64.15%\n"
     ]
    }
   ],
   "source": [
    "# Calculate accuracy by comparing the predicted labels with the actual labels (if available).\n",
    "accuracy = (data['predicted_label'] == data['label']).mean()\n",
    "print(f\"Accuracy: {accuracy * 100:.2f}%\")"
   ]
  },
  {
   "cell_type": "markdown",
   "metadata": {},
   "source": [
    "# **Confusion Matrix**"
   ]
  },
  {
   "cell_type": "code",
   "execution_count": 69,
   "metadata": {},
   "outputs": [],
   "source": [
    "import matplotlib.pyplot as plt\n",
    "from sklearn.metrics import confusion_matrix\n",
    "import seaborn as sns"
   ]
  },
  {
   "cell_type": "code",
   "execution_count": 70,
   "metadata": {},
   "outputs": [
    {
     "data": {
      "image/png": "[encoded data removed]",
      "text/plain": [
       "<Figure size 800x600 with 2 Axes>"
      ]
     },
     "metadata": {},
     "output_type": "display_data"
    }
   ],
   "source": [
    "# Calculate a confusion matrix\n",
    "conf_matrix = confusion_matrix(data['label'], data['predicted_label'])\n",
    "\n",
    "# Plot the confusion matrix\n",
    "plt.figure(figsize=(8, 6))\n",
    "sns.heatmap(conf_matrix, annot=True, fmt='d', cmap='Blues',\n",
    "            xticklabels=['Negative', 'Positive'],\n",
    "            yticklabels=['Negative', 'Positive'])\n",
    "plt.xlabel('Predicted')\n",
    "plt.ylabel('Actual')\n",
    "plt.title('Confusion Matrix')\n",
    "plt.show()"
   ]
  },
  {
   "cell_type": "markdown",
   "metadata": {},
   "source": [
    "We can see that our model works well on postive movie review but is peu fiable for negative reviews"
   ]
  },
  {
   "cell_type": "markdown",
   "metadata": {},
   "source": [
    "# **steamlit app**"
   ]
  },
  {
   "cell_type": "code",
   "execution_count": null,
   "metadata": {},
   "outputs": [],
   "source": []
  }
 ],
 "metadata": {
  "kernelspec": {
   "display_name": "Python 3",
   "language": "python",
   "name": "python3"
  },
  "language_info": {
   "codemirror_mode": {
    "name": "ipython",
    "version": 3
   },
   "file_extension": ".py",
   "mimetype": "text/x-python",
   "name": "python",
   "nbconvert_exporter": "python",
   "pygments_lexer": "ipython3",
   "version": "3.9.13"
  },
  "orig_nbformat": 4
 },
 "nbformat": 4,
 "nbformat_minor": 2
}
