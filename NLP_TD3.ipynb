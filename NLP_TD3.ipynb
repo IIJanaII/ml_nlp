{
 "cells": [
  {
   "cell_type": "code",
   "execution_count": 10,
   "metadata": {},
   "outputs": [],
   "source": [
    "import numpy as np\n",
    "import pandas as pd\n",
    "from sklearn.feature_extraction.text import TfidfVectorizer\n",
    "from sklearn.feature_extraction.text import CountVectorizer\n",
    "from sklearn.metrics.pairwise import cosine_similarity\n",
    "import sys\n",
    "\n",
    "sys.path.append(\"C:/Users/jega_/CNN/loadCNN.py\")\n",
    "\n",
    "from loadCNN import loadCNN"
   ]
  },
  {
   "cell_type": "code",
   "execution_count": 11,
   "metadata": {},
   "outputs": [],
   "source": [
    "article,abstract=loadCNN()"
   ]
  },
  {
   "cell_type": "code",
   "execution_count": 12,
   "metadata": {},
   "outputs": [
    {
     "data": {
      "text/plain": [
       "\"turkey has blocked access to twitter and youtube after they refused a request to remove pictures of a prosecutor held during an armed siege last week . a turkish court imposed the blocks because images of the deadly siege were being shared on social media and ` deeply upset ' the wife and children of mehmet selim kiraz , the hostage who was killed . the 46-year-old turkish prosecutor died in hospital when members of the revolutionary people 's liberation party-front ( dhkp-c ) stormed a courthouse and took him hostage . the dhkp-c is considered a terrorist group by turkey , the european union and us . a turkish court has blocked access to twitter and youtube after they refused a request to remove pictures of prosecutor mehmet selim kiraz held during an armed siege last week grief : the family of mehmet selim kiraz grieve over his coffin during his funeral at eyup sultan mosque in istanbul , turkey . he died in hospital after he was taken hostage by the far-left organisation two of his captors were killed when security forces took back the building where the far-left group was holding him . gunshots were heard and smoke could be seen rising from the scene at the end of the six-hour stand-off . mr kiraz , a father-of-two married to a judge who also worked at the courthouse , was targeted for his part in an investigation into the death of berkin elvan . the 15-year-old was severely wounded after being hit on the head by a tear-gas canister fired by a police officer during anti-government protests in istanbul in june 2013 . after spending 269 days in a coma , elvan eventually died on march 11 last year . his death , and the subsequent investigation , have since become a rallying point for the country 's far-left . gathering : prosecutors , lawyers and judges stand near a statue of lady justice during the funeral ceremony a british national , of polish origin but who has not been named , was arrested on saturday as part of an operation against the revolutionary people 's liberation party-front , according to reports . a foreign office spokeswoman said this morning : ' i can confirm that a british national has been arrested in turkey and that we are offering consular assistance . ' before imposing the blocks on the websites , turkish authorities had tried to prevent newspapers printing images taken during the siege last week . the newspapers were accused by the government of ` spreading terrorist propaganda ' in sharing the images of the hostage-taking . presidential spokesman ibrahim kalin said : ` this has to do with the publishing of the prosecutor 's what happened in the aftermath ( of the prosecutor 's killing ) is as grim as the incident itself . ` the demand from the prosecutor 's office is that this image not be used anywhere in electronic platforms . ` the wife and children of prosecutor kiraz have been deeply the images are everywhere . ' he added : ' a request has been made to both twitter and youtube for the removal of the images and posts but they have not accepted it and no response has been given . this decision has been taken through a court in istanbul . ' critical : prosecutor mehmet selim kiraz was taken to hospital with gunshot wounds but died of his injuries strength of feeling : elvan has since become an icon for the turkish far-left and his supporters accuse the authorities of covering up the circumstances and perpetrators of his death google said it was working to restore service to the youtube video-sharing site , which it owns . working to restore access for its users . facebook said it had complied with a turkish court order requiring it to restrict access to some content or face a block on its service . a company spokesman said it would appeal the order . turkey 's telecoms regulator could not immediately be reached and there was no statement on its website . this is not the first time that turkish authorities have imposed blocks on social media sites and networks . in the run-up to local elections in march 2014 blocks were imposed after recordings circulated allegedly revealing corruption among senior officials . figures provided by twitter revealed that turkey filed more requests to remove content from the social network than any other nation between july and december 2014 .\""
      ]
     },
     "execution_count": 12,
     "metadata": {},
     "output_type": "execute_result"
    }
   ],
   "source": [
    "article[0]"
   ]
  },
  {
   "cell_type": "code",
   "execution_count": 18,
   "metadata": {},
   "outputs": [],
   "source": [
    "vectorizer = TfidfVectorizer(stop_words='english')"
   ]
  },
  {
   "cell_type": "code",
   "execution_count": 23,
   "metadata": {},
   "outputs": [],
   "source": [
    "x=vectorizer.fit_transform(article)\n",
    "tfidf_abstracts = vectorizer.transform(abstract)"
   ]
  },
  {
   "cell_type": "code",
   "execution_count": 28,
   "metadata": {},
   "outputs": [],
   "source": [
    "results = cosine_similarity(x,tfidf_abstracts)"
   ]
  },
  {
   "cell_type": "code",
   "execution_count": 32,
   "metadata": {},
   "outputs": [
    {
     "name": "stdout",
     "output_type": "stream",
     "text": [
      "- Abstract 15 :\n",
      "\n",
      "eden hazard scored the only goal as chelsea beat manchester united . leonardo ulloa struck as leicester city claimed vital win over swansea . everton beat burnley at goodison park with aaron lennon starring . craig gardner scored to help west brom win at crystal palace . stoke city won against southampton , with philipp wollscheid starring .\n",
      "\n",
      "\n",
      "- Best similarity of resumé 15 : 0.5232324392959891\n",
      "\n",
      "- Location of the best         : 15\n",
      "\n",
      "\n",
      "-  article :\n",
      "\n",
      " every weekend , sportsmail tallies up the match ratings handed out by our team of reporters to bring you the barclays premier league team of the day . eden hazard leads the way this weekend , having powered chelsea to a vital , narrow win against manchester united as they hunt down the premier league title . he is joined by two team-mates from jose mourinho 's champions-elect . craig gardner starred as tony pulis ' west bromwich albion side gave him a winning return to crystal palace , even despite the efforts of in-form palace winger yannick bolasie . everton claimed a win over struggling burnley , stoke city saw off southampton and leonardo ulloa scored to continue leicester city 's late surge against swansea city . tom heaton 7.5 ( everton vs burnley ) burnley might have lost at goodison park but goalkeeper tom heaton was in no way to blame , producing a string of saves to keep everton to just one goal in a narrow defeat . the performance was topped off with a penalty save from ross barkley and his showing bodes well for burnley 's hopes of a great escape . tom heaton produced a string of saves against everton and saved ross barkley 's penalty seamus coleman 7.5 ( everton vs burnley ) seamus coleman was key to everton 's win over burnley , laying on the only goal of the game for kevin mirallas and helping to keep a clean sheet . and it was coleman who was fouled by ashley barnes to reduce burnley to 10 men on the stroke of half-time in an all-action showing . seamus coleman was key to everton 's win over burnley , laying on the only goal of the game on saturday john terry 7 ( chelsea vs manchester united ) defences across the country have found it impossible to cope with manchester united of late , but a john terry-marshalled chelsea kept them out to take another step towards the premier league title . the blues skipper bullied radamel falcao out of the game at stamford bridge and helped to limit united to just two shots on target . a john terry-marshalled chelsea kept outut manchester united to take another step towards the title philipp wollscheid 7 ( stoke city vs southampton ) a classy performance from the german centre back kept graziano pelle and dusan tadic quiet in a win over southampton . a newcomer to the premier league , philipp wollscheid revels in the physicality of english-style defending and he dominated in defence for stoke . philipp wollscheid revels in the physicality of english-style defending and he dominated in defence for stoke luke shaw 7 ( chelsea vs manchester united ) drafted in to replace daley blind , luke shaw proved to be manchester united 's most penetrative attacking threat in a game they dominated against chelsea . shaw was rarely tested defensively and took plenty of opportunities to go forward . his cutback should have seen wayne rooney open the scoring . luke shaw proved to be manchester united 's most penetrative attacking threat in a game they dominated aaron lennon 8 ( everton vs burnley ) enjoying his football and finding form again at everton , it was another good weekend for aaron lennon . the tottenham loanee won a penalty in a man-of-the-match display at goodison park . it was another good weekend for aaron lennon , who won a penalty for everton against burnley craig gardner 7.5 ( crystal palace vs west bromwich albion ) craig gardner 's beautiful 30-yard curler sealed victory for west brom away at one of the premier league 's in-form sides . his solid passing in midfield helped to put a stop to crystal palace 's free-flowing style as tony pulis enjoyed a winning return to selhurst park . craig gardner 's beautiful 30-yard curler sealed victory for west brom away at crystal palace on saturday eden hazard 8.5 ( chelsea vs manchester united ) made the difference in a big game again . eden hazard was a constant outlet for chelsea 's midfield and he slotted between david de gea 's legs for a decisive goal . hazard 's form seems to make him a nailed-on bet for the player of the year prizes come the end of the season . eden hazard was a constant outlet for chelsea and he slotted between david de gea 's legs for a goal yannick bolasie 8 ( crystal palace vs west bromwich albion ) yannick bolasie was not as successful this week as he was with his hat-trick against sunderland last time around , but still a threat to west brom with his pace and power . every attack for palace seemed to come down the left and he was denied a deserved goal when boaz myhill clawed away his bicycle kick . yannick bolasie was not as successful this week as he was last week but he was still a threat with his pace leonardo ulloa 7 ( leicester city vs swansea city ) leonardo ulloa 's first goal in the premier league since boxing day brought another victory in the fight for survival . only starting after david nugent was injured in the warm-up , he saw another effort land on the roof of the net , leading the line on a difficult afternoon for the hosts . leonardo ulloa 's first goal in the premier league since boxing day crowned a good line-leading performance mame biram diouf 7 ( stoke city vs southampton ) a second-half comeback for stoke was led by mame biram diouf , who slammed home an equaliser against southampton just after half-time . a genuine presence upfront and a constant thorn in the side of the usually excellent southampton defence . a second-half comeback for stoke was led by mame biram diouf , who slammed home the equaliser\n"
     ]
    }
   ],
   "source": [
    "i = 15\n",
    "print(f\"- Abstract {i} :\\n\\n{abstract[i]}\")\n",
    "print(f\"\\n\\n- Best similarity of resumé {i} : {np.max(results[i])}\")\n",
    "print(f\"\\n- Location of the best         : {np.argmax(results[i])}\")\n",
    "print(\"\\n\")\n",
    "print(f\"-  article :\\n\\n {article[np.argmax(results[i])]}\")"
   ]
  },
  {
   "cell_type": "code",
   "execution_count": null,
   "metadata": {},
   "outputs": [],
   "source": []
  }
 ],
 "metadata": {
  "kernelspec": {
   "display_name": "base",
   "language": "python",
   "name": "python3"
  },
  "language_info": {
   "codemirror_mode": {
    "name": "ipython",
    "version": 3
   },
   "file_extension": ".py",
   "mimetype": "text/x-python",
   "name": "python",
   "nbconvert_exporter": "python",
   "pygments_lexer": "ipython3",
   "version": "3.9.13"
  }
 },
 "nbformat": 4,
 "nbformat_minor": 2
}
